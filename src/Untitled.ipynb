{
 "cells": [
  {
   "cell_type": "code",
   "execution_count": 1,
   "id": "520124ae",
   "metadata": {},
   "outputs": [],
   "source": [
    "reset()\n",
    "from itertools import product\n",
    "from itertools import permutations as perms\n",
    "n=12"
   ]
  },
  {
   "cell_type": "code",
   "execution_count": 2,
   "id": "c4e344b7",
   "metadata": {},
   "outputs": [],
   "source": [
    "f=open('dat3.out','r')\n",
    "A=[[matrix.circulant([int(x) for x in y.split()]) for y in z.split('\\n')] for z in f.read().split('\\n\\n')[:-1]]"
   ]
  },
  {
   "cell_type": "code",
   "execution_count": 3,
   "id": "b01f1335",
   "metadata": {},
   "outputs": [],
   "source": [
    "g=matrix.circulant([0,1]+[0]*(n-2))\n",
    "G=[((-1)**i)*g**j for i in range(2) for j in range(n)]"
   ]
  },
  {
   "cell_type": "code",
   "execution_count": 8,
   "id": "600b2df8",
   "metadata": {},
   "outputs": [],
   "source": [
    "f=open('tmp.txt','r')\n",
    "B=[[matrix.circulant([int(x) for x in y.split()]) for y in z.split('\\n')] for z in f.read().split('\\n\\n')[:-1]]"
   ]
  },
  {
   "cell_type": "code",
   "execution_count": null,
   "id": "2759d9dc",
   "metadata": {},
   "outputs": [],
   "source": []
  }
 ],
 "metadata": {
  "kernelspec": {
   "display_name": "SageMath 9.5",
   "language": "sage",
   "name": "sagemath"
  },
  "language_info": {
   "codemirror_mode": {
    "name": "ipython",
    "version": 3
   },
   "file_extension": ".py",
   "mimetype": "text/x-python",
   "name": "python",
   "nbconvert_exporter": "python",
   "pygments_lexer": "ipython3",
   "version": "3.10.12"
  }
 },
 "nbformat": 4,
 "nbformat_minor": 5
}
